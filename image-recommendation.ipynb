{
 "cells": [
  {
   "cell_type": "code",
   "execution_count": 1,
   "metadata": {
    "_cell_guid": "b1076dfc-b9ad-4769-8c92-a6c4dae69d19",
    "_uuid": "8f2839f25d086af736a60e9eeb907d3b93b6e0e5",
    "execution": {
     "iopub.execute_input": "2021-01-10T08:37:07.364217Z",
     "iopub.status.busy": "2021-01-10T08:37:07.363480Z",
     "iopub.status.idle": "2021-01-10T08:37:14.833583Z",
     "shell.execute_reply": "2021-01-10T08:37:14.832751Z"
    },
    "papermill": {
     "duration": 7.508428,
     "end_time": "2021-01-10T08:37:14.833713",
     "exception": false,
     "start_time": "2021-01-10T08:37:07.325285",
     "status": "completed"
    },
    "tags": []
   },
   "outputs": [],
   "source": [
    "# -*- coding: utf-8 -*-\n",
    "import collections\n",
    "import math\n",
    "import os\n",
    "import numpy as np\n",
    "import random\n",
    "from six.moves import xrange\n",
    "from sklearn.manifold import TSNE\n",
    "import matplotlib.pyplot as plt\n",
    "import tensorflow as tf\n",
    "if tf.__version__[0] == '2':\n",
    "    # Using TensorFlow 1.x to train our word2vec\n",
    "    import tensorflow.compat.v1 as tf\n",
    "    tf.disable_v2_behavior()\n",
    "%matplotlib inline  "
   ]
  },
  {
   "cell_type": "code",
   "execution_count": 2,
   "metadata": {
    "execution": {
     "iopub.execute_input": "2021-01-10T08:37:14.894254Z",
     "iopub.status.busy": "2021-01-10T08:37:14.893615Z",
     "iopub.status.idle": "2021-01-10T08:37:14.896687Z",
     "shell.execute_reply": "2021-01-10T08:37:14.896109Z"
    },
    "papermill": {
     "duration": 0.034277,
     "end_time": "2021-01-10T08:37:14.896804",
     "exception": false,
     "start_time": "2021-01-10T08:37:14.862527",
     "status": "completed"
    },
    "tags": []
   },
   "outputs": [],
   "source": [
    "data_folder  = \"../input/109-1-ntut-dl-app-hw2\"\n",
    "filename   = \"tag_list.txt\"  # Hashtag list\n",
    "vocabulary_size = 990"
   ]
  },
  {
   "cell_type": "code",
   "execution_count": 3,
   "metadata": {
    "execution": {
     "iopub.execute_input": "2021-01-10T08:37:14.954220Z",
     "iopub.status.busy": "2021-01-10T08:37:14.953609Z",
     "iopub.status.idle": "2021-01-10T08:37:14.958218Z",
     "shell.execute_reply": "2021-01-10T08:37:14.957724Z"
    },
    "papermill": {
     "duration": 0.034713,
     "end_time": "2021-01-10T08:37:14.958340",
     "exception": false,
     "start_time": "2021-01-10T08:37:14.923627",
     "status": "completed"
    },
    "tags": []
   },
   "outputs": [],
   "source": [
    "batch_size     = 128\n",
    "embedding_size = 64       # Dimension of the embedding vector.\n",
    "skip_window    = 1         # How many words to consider left and right.\n",
    "num_skips      = 2         # How many times to reuse an input "
   ]
  },
  {
   "cell_type": "code",
   "execution_count": 4,
   "metadata": {
    "execution": {
     "iopub.execute_input": "2021-01-10T08:37:15.019557Z",
     "iopub.status.busy": "2021-01-10T08:37:15.018863Z",
     "iopub.status.idle": "2021-01-10T08:37:15.022680Z",
     "shell.execute_reply": "2021-01-10T08:37:15.021988Z"
    },
    "papermill": {
     "duration": 0.037463,
     "end_time": "2021-01-10T08:37:15.022818",
     "exception": false,
     "start_time": "2021-01-10T08:37:14.985355",
     "status": "completed"
    },
    "tags": []
   },
   "outputs": [],
   "source": [
    "# Random validation set to sample nearest neighbors.\n",
    "valid_size     = 32        # Random set of words to evaluate similarity \n",
    "valid_window   = 200       # Only pick validation samples in the top 200\n",
    "valid_examples = np.random.choice(valid_window, valid_size, replace=False)"
   ]
  },
  {
   "cell_type": "code",
   "execution_count": 5,
   "metadata": {
    "execution": {
     "iopub.execute_input": "2021-01-10T08:37:15.084213Z",
     "iopub.status.busy": "2021-01-10T08:37:15.083504Z",
     "iopub.status.idle": "2021-01-10T08:37:15.156104Z",
     "shell.execute_reply": "2021-01-10T08:37:15.155509Z"
    },
    "papermill": {
     "duration": 0.105294,
     "end_time": "2021-01-10T08:37:15.156229",
     "exception": false,
     "start_time": "2021-01-10T08:37:15.050935",
     "status": "completed"
    },
    "tags": []
   },
   "outputs": [],
   "source": [
    "file_path   = os.path.join(data_folder, filename)\n",
    "with open(file_path, 'r', encoding=\"utf-8\") as f:\n",
    "    words = f.read().split()"
   ]
  },
  {
   "cell_type": "code",
   "execution_count": 6,
   "metadata": {
    "execution": {
     "iopub.execute_input": "2021-01-10T08:37:15.238397Z",
     "iopub.status.busy": "2021-01-10T08:37:15.225511Z",
     "iopub.status.idle": "2021-01-10T08:37:15.243488Z",
     "shell.execute_reply": "2021-01-10T08:37:15.243981Z"
    },
    "papermill": {
     "duration": 0.059602,
     "end_time": "2021-01-10T08:37:15.244116",
     "exception": false,
     "start_time": "2021-01-10T08:37:15.184514",
     "status": "completed"
    },
    "tags": []
   },
   "outputs": [
    {
     "data": {
      "text/plain": [
       "['sea',\n",
       " 'instapic',\n",
       " 'instagram',\n",
       " 'trip',\n",
       " 'travel',\n",
       " 'sea',\n",
       " 'sea',\n",
       " 'love',\n",
       " 'beach',\n",
       " 'sea',\n",
       " 'trip',\n",
       " 'island',\n",
       " 'japan',\n",
       " 'sun',\n",
       " 'sand',\n",
       " 'sea',\n",
       " 'sky',\n",
       " 'friend',\n",
       " 'beach',\n",
       " 'thailand',\n",
       " 'trip',\n",
       " 'adventure',\n",
       " 'vsco',\n",
       " 'vscocam',\n",
       " 'blue',\n",
       " 'bluesky',\n",
       " 'sea',\n",
       " 'nature',\n",
       " 'naturelovers',\n",
       " 'church',\n",
       " 'road',\n",
       " 'nikon',\n",
       " 'photograph',\n",
       " 'sea',\n",
       " 'beach',\n",
       " 'beach',\n",
       " 'sea',\n",
       " 'spring',\n",
       " 'wild',\n",
       " 'top',\n",
       " 'sunday',\n",
       " 'ocean',\n",
       " 'sea',\n",
       " 'portrait',\n",
       " 'mylove',\n",
       " 'beach',\n",
       " 'wave',\n",
       " 'sun',\n",
       " 'happy',\n",
       " 'holiday',\n",
       " 'love',\n",
       " 'nature',\n",
       " 'sea',\n",
       " 'beach',\n",
       " 'germany',\n",
       " 'home',\n",
       " 'travel',\n",
       " 'joy',\n",
       " 'nofilter',\n",
       " 'water',\n",
       " 'amazing',\n",
       " 'pictureoftheday',\n",
       " 'beach',\n",
       " 'sea',\n",
       " 'crazy',\n",
       " 'brasil',\n",
       " 'surf',\n",
       " 'surfing',\n",
       " 'indonesia',\n",
       " 'nature',\n",
       " 'beach',\n",
       " 'awesome',\n",
       " 'sea',\n",
       " 'traveler',\n",
       " 'adventure',\n",
       " 'sea',\n",
       " 'beach',\n",
       " 'vacation',\n",
       " 'holiday',\n",
       " 'look',\n",
       " 'place',\n",
       " 'moment',\n",
       " 'sand',\n",
       " 'tagsforlikes',\n",
       " 'dance',\n",
       " 'sweet',\n",
       " 'sea',\n",
       " 'photooftheday',\n",
       " 'sunset',\n",
       " 'sea',\n",
       " 'sun',\n",
       " 'italy',\n",
       " 'light',\n",
       " 'sky',\n",
       " 'sunday',\n",
       " 'friend',\n",
       " 'sea',\n",
       " 'streetart',\n",
       " 'eye',\n",
       " 'sea',\n",
       " 'travelgram',\n",
       " 'travelphotography',\n",
       " 'sea',\n",
       " 'sunrise',\n",
       " 'happyday',\n",
       " 'sea',\n",
       " 'travel',\n",
       " 'photo',\n",
       " 'beach',\n",
       " 'sea',\n",
       " 'sand',\n",
       " 'blue',\n",
       " 'filter',\n",
       " 'like',\n",
       " 'likeforlike',\n",
       " 'cute',\n",
       " 'sky',\n",
       " 'sea',\n",
       " 'view',\n",
       " 'sun',\n",
       " 'sea',\n",
       " 'love',\n",
       " 'sea',\n",
       " 'ocean',\n",
       " 'sea',\n",
       " 'sea',\n",
       " 'shoe',\n",
       " 'van',\n",
       " 'blue',\n",
       " 'sea',\n",
       " 'spring',\n",
       " 'holiday',\n",
       " 'sea',\n",
       " 'island',\n",
       " 'nature',\n",
       " 'sunday',\n",
       " 'dog',\n",
       " 'sunny',\n",
       " 'study',\n",
       " 'sea',\n",
       " 'enjoy',\n",
       " 'family',\n",
       " 'beach',\n",
       " 'relax',\n",
       " 'sky',\n",
       " 'sea',\n",
       " 'australia',\n",
       " 'norway',\n",
       " 'sea',\n",
       " 'sun',\n",
       " 'april',\n",
       " 'sunday',\n",
       " 'landscape',\n",
       " 'nature',\n",
       " 'sea',\n",
       " 'sea',\n",
       " 'seaside',\n",
       " 'hiking',\n",
       " 'explore',\n",
       " 'photooftheday',\n",
       " 'thailand',\n",
       " 'italy',\n",
       " 'italia',\n",
       " 'sea',\n",
       " 'ootd',\n",
       " 'outfit',\n",
       " 'fashion',\n",
       " 'travel',\n",
       " 'sea',\n",
       " 'sea',\n",
       " 'beach',\n",
       " 'rock',\n",
       " 'nature',\n",
       " 'sea',\n",
       " 'travelgram',\n",
       " 'wild',\n",
       " 'vsco',\n",
       " 'vscocam',\n",
       " 'vscogram',\n",
       " 'vscogood',\n",
       " 'vscophile',\n",
       " 'boat',\n",
       " 'travelling',\n",
       " 'summer',\n",
       " 'freedom',\n",
       " 'italy',\n",
       " 'sea',\n",
       " 'travel',\n",
       " 'travel',\n",
       " 'traveller',\n",
       " 'hkig',\n",
       " 'instamood',\n",
       " 'sea',\n",
       " 'day',\n",
       " 'happiness',\n",
       " 'sea',\n",
       " 'canon',\n",
       " 'nature',\n",
       " 'outdoors',\n",
       " 'landscape',\n",
       " 'sunshine',\n",
       " 'sunset',\n",
       " 'sea',\n",
       " 'warm',\n",
       " 'evening',\n",
       " 'sea',\n",
       " 'throwback',\n",
       " 'sea',\n",
       " 'sea',\n",
       " 'horizon',\n",
       " 'best',\n",
       " 'water',\n",
       " 'sea',\n",
       " 'quote',\n",
       " 'sea',\n",
       " 'nature',\n",
       " 'nofilter',\n",
       " 'paradise',\n",
       " 'island',\n",
       " 'sunset',\n",
       " 'sun',\n",
       " 'sea',\n",
       " 'sky',\n",
       " 'cloud',\n",
       " 'beautiful',\n",
       " 'peace',\n",
       " 'friend',\n",
       " 'fun',\n",
       " 'smile',\n",
       " 'memory',\n",
       " 'sea',\n",
       " 'beach',\n",
       " 'ocean',\n",
       " 'sea',\n",
       " 'goodnight',\n",
       " 'naturephotography',\n",
       " 'naturelovers',\n",
       " 'sea',\n",
       " 'skylovers',\n",
       " 'instaphoto',\n",
       " 'island',\n",
       " 'view',\n",
       " 'landscape',\n",
       " 'blue',\n",
       " 'sea',\n",
       " 'sky',\n",
       " 'house',\n",
       " 'beautiful',\n",
       " 'moment',\n",
       " 'sunset',\n",
       " 'beach',\n",
       " 'sea',\n",
       " 'sun',\n",
       " 'sand',\n",
       " 'gopro',\n",
       " 'trip',\n",
       " 'cool',\n",
       " 'nice',\n",
       " 'instagood',\n",
       " 'sun',\n",
       " 'sunset',\n",
       " 'nature',\n",
       " 'beach',\n",
       " 'sea',\n",
       " 'shot',\n",
       " 'sea',\n",
       " 'sunset',\n",
       " 'sunny',\n",
       " 'blue',\n",
       " 'sky',\n",
       " 'water',\n",
       " 'cloud',\n",
       " 'sea',\n",
       " 'boat',\n",
       " 'landscape',\n",
       " 'reflection',\n",
       " 'beach',\n",
       " 'sea',\n",
       " 'island',\n",
       " 'sky',\n",
       " 'cloud',\n",
       " 'explore',\n",
       " 'sea',\n",
       " 'beach',\n",
       " 'sea',\n",
       " 'sun',\n",
       " 'blue',\n",
       " 'sky',\n",
       " 'wonderful',\n",
       " 'summer',\n",
       " 'instagood',\n",
       " 'sea',\n",
       " 'instagram',\n",
       " 'instapic',\n",
       " 'likeforlike',\n",
       " 'selfie',\n",
       " 'photooftheday',\n",
       " 'followme',\n",
       " 'sunday',\n",
       " 'playa',\n",
       " 'sea',\n",
       " 'men',\n",
       " 'sea',\n",
       " 'holiday',\n",
       " 'travel',\n",
       " 'landscape',\n",
       " 'nature',\n",
       " 'sunset',\n",
       " 'sea',\n",
       " 'travel',\n",
       " 'sky',\n",
       " 'bluesky',\n",
       " 'skylovers',\n",
       " 'beach',\n",
       " 'sea',\n",
       " 'zara',\n",
       " 'sea',\n",
       " 'dog',\n",
       " 'mylife',\n",
       " 'mylove',\n",
       " 'love',\n",
       " 'picoftheday',\n",
       " 'girl',\n",
       " 'nature',\n",
       " 'paradise',\n",
       " 'sea',\n",
       " 'wedding',\n",
       " 'instagood',\n",
       " 'photography',\n",
       " 'vscocam',\n",
       " 'vsco',\n",
       " 'picoftheday',\n",
       " 'barcelona',\n",
       " 'spain',\n",
       " 'love',\n",
       " 'beach',\n",
       " 'sea',\n",
       " 'bali',\n",
       " 'sea',\n",
       " 'vscocam',\n",
       " 'canon',\n",
       " 'sky',\n",
       " 'morning',\n",
       " 'beach',\n",
       " 'beachlife',\n",
       " 'goodmorning',\n",
       " 'goodtimes',\n",
       " 'sea',\n",
       " 'thailand',\n",
       " 'trip',\n",
       " 'holiday',\n",
       " 'sun',\n",
       " 'relax',\n",
       " 'sea',\n",
       " 'russia',\n",
       " 'moscow',\n",
       " 'travel',\n",
       " 'summer',\n",
       " 'sea',\n",
       " 'cloud',\n",
       " 'fashion',\n",
       " 'fashiondiaries',\n",
       " 'sea',\n",
       " 'water',\n",
       " 'ocean',\n",
       " 'sea',\n",
       " 'rain',\n",
       " 'sea',\n",
       " 'reflection',\n",
       " 'love',\n",
       " 'sea',\n",
       " 'sun',\n",
       " 'quote',\n",
       " 'sea',\n",
       " 'sunday',\n",
       " 'sea',\n",
       " 'beauty',\n",
       " 'trip',\n",
       " 'tree',\n",
       " 'sunday',\n",
       " 'view',\n",
       " 'sea',\n",
       " 'photooftheday',\n",
       " 'designer',\n",
       " 'spring',\n",
       " 'travelgram',\n",
       " 'life',\n",
       " 'vscogood',\n",
       " 'vsco',\n",
       " 'love',\n",
       " 'instagram',\n",
       " 'instagood',\n",
       " 'sea',\n",
       " 'sea',\n",
       " 'home',\n",
       " 'random',\n",
       " 'cute',\n",
       " 'little',\n",
       " 'place',\n",
       " 'walk',\n",
       " 'fun',\n",
       " 'grass',\n",
       " 'amazing',\n",
       " 'sea',\n",
       " 'art',\n",
       " 'painting',\n",
       " 'paint',\n",
       " 'ocean',\n",
       " 'sea',\n",
       " 'water',\n",
       " 'sea',\n",
       " 'morning',\n",
       " 'family',\n",
       " 'nofilter',\n",
       " 'natural',\n",
       " 'today',\n",
       " 'picoftheday',\n",
       " 'loveit',\n",
       " 'beautiful',\n",
       " 'sea',\n",
       " 'gym',\n",
       " 'australia',\n",
       " 'sea',\n",
       " 'sunday',\n",
       " 'nature',\n",
       " 'beach',\n",
       " 'place',\n",
       " 'sunnyday',\n",
       " 'travelling',\n",
       " 'surf',\n",
       " 'surfing',\n",
       " 'wave',\n",
       " 'ocean',\n",
       " 'sea',\n",
       " 'sea',\n",
       " 'sea',\n",
       " 'fish',\n",
       " 'instalike',\n",
       " 'webstagram',\n",
       " 'photooftheday',\n",
       " 'beautiful',\n",
       " 'best',\n",
       " 'italy',\n",
       " 'instagood',\n",
       " 'instadaily',\n",
       " 'instalike',\n",
       " 'sea',\n",
       " 'instamood',\n",
       " 'selfie',\n",
       " 'surf',\n",
       " 'ocean',\n",
       " 'sea',\n",
       " 'sand',\n",
       " 'sea',\n",
       " 'sun',\n",
       " 'beautiful',\n",
       " 'day',\n",
       " 'pretty',\n",
       " 'awesome',\n",
       " 'cool',\n",
       " 'girl',\n",
       " 'italian',\n",
       " 'instaday',\n",
       " 'sunset',\n",
       " 'sun',\n",
       " 'reflection',\n",
       " 'sea',\n",
       " 'photographer',\n",
       " 'colour',\n",
       " 'peaceful',\n",
       " 'beautiful',\n",
       " 'sea',\n",
       " 'nature',\n",
       " 'rock',\n",
       " 'beach',\n",
       " 'wave',\n",
       " 'cold',\n",
       " 'weather',\n",
       " 'sea',\n",
       " 'outdoors',\n",
       " 'beach',\n",
       " 'beauty',\n",
       " 'sea',\n",
       " 'blue',\n",
       " 'love',\n",
       " 'beach',\n",
       " 'sun',\n",
       " 'sea',\n",
       " 'reflection',\n",
       " 'brasil',\n",
       " 'paradise',\n",
       " 'bali',\n",
       " 'life',\n",
       " 'sea',\n",
       " 'summer',\n",
       " 'camera',\n",
       " 'sea',\n",
       " 'seaside',\n",
       " 'sea',\n",
       " 'sea',\n",
       " 'beach',\n",
       " 'sea',\n",
       " 'beach',\n",
       " 'ocean',\n",
       " 'seaside',\n",
       " 'sea',\n",
       " 'bar',\n",
       " 'island',\n",
       " 'loveyou',\n",
       " 'loveit',\n",
       " 'boat',\n",
       " 'instafood',\n",
       " 'sea',\n",
       " 'goodmorning',\n",
       " 'good',\n",
       " 'vscocam',\n",
       " 'vsco',\n",
       " 'sea',\n",
       " 'instadaily',\n",
       " 'beautiful',\n",
       " 'nature',\n",
       " 'bird',\n",
       " 'sea',\n",
       " 'blonde',\n",
       " 'love',\n",
       " 'happy',\n",
       " 'sea',\n",
       " 'beautiful',\n",
       " 'forever',\n",
       " 'sunnyday',\n",
       " 'beach',\n",
       " 'sea',\n",
       " 'ocean',\n",
       " 'sky',\n",
       " 'mountain',\n",
       " 'wave',\n",
       " 'hawaii',\n",
       " 'holiday',\n",
       " 'instagood',\n",
       " 'love',\n",
       " 'fashion',\n",
       " 'summer',\n",
       " 'sea',\n",
       " 'beach',\n",
       " 'ocean',\n",
       " 'sea',\n",
       " 'mountain',\n",
       " 'blessed',\n",
       " 'home',\n",
       " 'beach',\n",
       " 'travel',\n",
       " 'happy',\n",
       " 'lovelife',\n",
       " 'beautifulday',\n",
       " 'landscape',\n",
       " 'sea',\n",
       " 'water',\n",
       " 'love',\n",
       " 'family',\n",
       " 'day',\n",
       " 'dog',\n",
       " 'happy',\n",
       " 'sea',\n",
       " 'sky',\n",
       " 'sun',\n",
       " 'picoftheday',\n",
       " 'picoftheday',\n",
       " 'sunny',\n",
       " 'sea',\n",
       " 'wave',\n",
       " 'sky',\n",
       " 'nature',\n",
       " 'skyporn',\n",
       " 'awesome',\n",
       " 'afternoon',\n",
       " 'ocean',\n",
       " 'sea',\n",
       " 'summer',\n",
       " 'instasize',\n",
       " 'sea',\n",
       " 'istanbul',\n",
       " 'sunny',\n",
       " 'sunglass',\n",
       " 'instalike',\n",
       " 'photooftheday',\n",
       " 'sea',\n",
       " 'spring',\n",
       " 'beach',\n",
       " 'sea',\n",
       " 'peaceful',\n",
       " 'bnw',\n",
       " 'sea',\n",
       " 'sea',\n",
       " 'memory',\n",
       " 'sea',\n",
       " 'beach',\n",
       " 'fish',\n",
       " 'food',\n",
       " 'foodie',\n",
       " 'ice',\n",
       " 'fresh',\n",
       " 'water',\n",
       " 'sea',\n",
       " 'sea',\n",
       " 'quote',\n",
       " 'followme',\n",
       " 'likeback',\n",
       " 'instalike',\n",
       " 'instagram',\n",
       " 'picture',\n",
       " 'pictureoftheday',\n",
       " 'sea',\n",
       " 'sun',\n",
       " 'beach',\n",
       " 'likeit',\n",
       " 'natural',\n",
       " 'sea',\n",
       " 'sun',\n",
       " 'sky',\n",
       " 'spring',\n",
       " 'walk',\n",
       " 'seaside',\n",
       " 'sea',\n",
       " 'love',\n",
       " 'beautiful',\n",
       " 'vsco',\n",
       " 'vscocam',\n",
       " 'blue',\n",
       " 'bluesky',\n",
       " 'sea',\n",
       " 'nature',\n",
       " 'naturelovers',\n",
       " 'seaside',\n",
       " 'sea',\n",
       " 'urban',\n",
       " 'streetart',\n",
       " 'explore',\n",
       " 'street',\n",
       " 'sea',\n",
       " 'love',\n",
       " 'tagsforlikes',\n",
       " 'instagood',\n",
       " 'instamood',\n",
       " 'enjoy',\n",
       " 'yellow',\n",
       " 'ocean',\n",
       " 'clothing',\n",
       " 'sea',\n",
       " 'beach',\n",
       " 'sand',\n",
       " 'sea',\n",
       " 'ocean',\n",
       " 'wave',\n",
       " 'canon',\n",
       " 'sea',\n",
       " 'seaside',\n",
       " 'photography',\n",
       " 'model',\n",
       " 'modeling',\n",
       " 'photographer',\n",
       " 'sea',\n",
       " 'beach',\n",
       " 'instapic',\n",
       " 'asia',\n",
       " 'blue',\n",
       " 'sky',\n",
       " 'sea',\n",
       " 'hot',\n",
       " 'holiday',\n",
       " 'travel',\n",
       " 'wanderlust',\n",
       " 'sunset',\n",
       " 'girl',\n",
       " 'sea',\n",
       " 'sky',\n",
       " 'cloud',\n",
       " 'nature',\n",
       " 'magic',\n",
       " 'best',\n",
       " 'sun',\n",
       " 'sand',\n",
       " 'sea',\n",
       " 'selfie',\n",
       " 'istanbul',\n",
       " 'sea',\n",
       " 'vscocam',\n",
       " 'igers',\n",
       " 'igersoftheday',\n",
       " 'bestoftheday',\n",
       " 'pictureoftheday',\n",
       " 'sea',\n",
       " 'jacket',\n",
       " 'dog',\n",
       " 'friend',\n",
       " 'sea',\n",
       " 'cloud',\n",
       " 'sunrise',\n",
       " 'sea',\n",
       " 'sun',\n",
       " 'photography',\n",
       " 'travelphotography',\n",
       " 'travel',\n",
       " 'cloud',\n",
       " 'sea',\n",
       " 'california',\n",
       " 'beach',\n",
       " 'sea',\n",
       " 'sunny',\n",
       " 'instalife',\n",
       " 'life',\n",
       " 'awesome',\n",
       " 'instagood',\n",
       " 'sunday',\n",
       " 'sea',\n",
       " 'detail',\n",
       " 'amazing',\n",
       " 'sunny',\n",
       " 'memory',\n",
       " 'holiday',\n",
       " 'bikini',\n",
       " 'sun',\n",
       " 'sea',\n",
       " 'sand',\n",
       " 'alcohol',\n",
       " 'summer',\n",
       " 'sunset',\n",
       " 'photography',\n",
       " 'landscape',\n",
       " 'island',\n",
       " 'vscocam',\n",
       " 'vsco',\n",
       " 'sea',\n",
       " 'beach',\n",
       " 'nikon',\n",
       " 'sea',\n",
       " 'mirror',\n",
       " 'pic',\n",
       " 'photo',\n",
       " 'sea',\n",
       " 'sun',\n",
       " 'photooftheday',\n",
       " 'sea',\n",
       " 'beach',\n",
       " 'sky',\n",
       " 'love',\n",
       " 'sea',\n",
       " 'luxury',\n",
       " 'homesweethome',\n",
       " 'beautiful',\n",
       " 'life',\n",
       " 'russia',\n",
       " 'design',\n",
       " 'sea',\n",
       " 'sol',\n",
       " 'book',\n",
       " 'amor',\n",
       " 'sea',\n",
       " 'sun',\n",
       " 'travel',\n",
       " 'trip',\n",
       " 'picoftheday',\n",
       " 'nature',\n",
       " 'relax',\n",
       " 'chilling',\n",
       " 'sea',\n",
       " 'beach',\n",
       " 'artwork',\n",
       " 'artist',\n",
       " 'art',\n",
       " 'water',\n",
       " 'paint',\n",
       " 'painting',\n",
       " 'landscape',\n",
       " 'sea',\n",
       " 'instalike',\n",
       " 'instagood',\n",
       " 'instagram',\n",
       " 'sea',\n",
       " 'boy',\n",
       " 'photography',\n",
       " 'sea',\n",
       " 'water',\n",
       " 'sunnyday',\n",
       " 'sol',\n",
       " 'ocean',\n",
       " 'sea',\n",
       " 'bluesky',\n",
       " 'paradise',\n",
       " 'brazil',\n",
       " 'fish',\n",
       " 'sea',\n",
       " 'eye',\n",
       " 'fish',\n",
       " 'melbourne',\n",
       " 'sea',\n",
       " 'ocean',\n",
       " 'wanderlust',\n",
       " 'today',\n",
       " 'sunday',\n",
       " 'sea',\n",
       " 'beach',\n",
       " 'sun',\n",
       " 'sea',\n",
       " 'indonesia',\n",
       " 'beach',\n",
       " 'sea',\n",
       " 'cloud',\n",
       " 'nature',\n",
       " 'instagram',\n",
       " 'cloud',\n",
       " 'sea',\n",
       " 'blue',\n",
       " 'enjoy',\n",
       " 'sea',\n",
       " 'hiking',\n",
       " 'wanderlust',\n",
       " 'nature',\n",
       " 'rock',\n",
       " 'sea',\n",
       " 'photography',\n",
       " 'camera',\n",
       " 'love',\n",
       " 'sea',\n",
       " 'paradise',\n",
       " 'beach',\n",
       " 'sun',\n",
       " 'sea',\n",
       " 'relax',\n",
       " 'nature',\n",
       " 'stunning',\n",
       " 'sky',\n",
       " 'sea',\n",
       " 'walking',\n",
       " 'cloud',\n",
       " 'air',\n",
       " 'photography',\n",
       " 'power',\n",
       " 'painting',\n",
       " 'sunday',\n",
       " 'view',\n",
       " 'vsco',\n",
       " 'seaside',\n",
       " 'sea',\n",
       " 'instagram',\n",
       " 'instasize',\n",
       " 'sea',\n",
       " 'love',\n",
       " 'bff',\n",
       " 'photo',\n",
       " 'girl',\n",
       " 'denim',\n",
       " 'haha',\n",
       " 'sea',\n",
       " 'city',\n",
       " 'sky',\n",
       " 'cloud',\n",
       " 'sunset',\n",
       " 'instatravel',\n",
       " 'instamood',\n",
       " 'instalike',\n",
       " 'instadaily',\n",
       " 'ocean',\n",
       " 'sea',\n",
       " 'illustration',\n",
       " 'happyday',\n",
       " 'sea',\n",
       " 'sand',\n",
       " 'sun',\n",
       " 'beach',\n",
       " 'bluesky',\n",
       " 'nofilter',\n",
       " 'sunset',\n",
       " 'beach',\n",
       " 'sea',\n",
       " 'cloud',\n",
       " 'yummy',\n",
       " 'food',\n",
       " 'sea',\n",
       " 'foodphotography',\n",
       " 'foodpics',\n",
       " 'sea',\n",
       " 'boat',\n",
       " 'spain',\n",
       " 'france',\n",
       " 'england',\n",
       " 'sea',\n",
       " 'picture',\n",
       " 'rainbow',\n",
       " 'photography',\n",
       " 'baby',\n",
       " 'girl',\n",
       " 'kid',\n",
       " 'love',\n",
       " 'happiness',\n",
       " 'cutie',\n",
       " 'sea',\n",
       " 'spring',\n",
       " 'instamood',\n",
       " 'day',\n",
       " 'weather',\n",
       " 'nature',\n",
       " 'sun',\n",
       " 'sky',\n",
       " 'sea',\n",
       " 'sea',\n",
       " 'bluesky',\n",
       " 'sky',\n",
       " 'sea',\n",
       " 'spring',\n",
       " 'instapic',\n",
       " 'sunshine',\n",
       " 'sea',\n",
       " 'happyday',\n",
       " 'life',\n",
       " 'cloud',\n",
       " 'sun',\n",
       " 'sea',\n",
       " 'sunset',\n",
       " 'sunrise',\n",
       " 'sunshine',\n",
       " 'afternoon',\n",
       " 'old',\n",
       " 'mexico',\n",
       " 'night',\n",
       " 'moon',\n",
       " 'sea',\n",
       " 'landscape',\n",
       " 'cloud',\n",
       " 'rock',\n",
       " 'wave',\n",
       " 'nature',\n",
       " 'animal',\n",
       " 'sea',\n",
       " 'adventure',\n",
       " 'australia',\n",
       " 'ocean',\n",
       " 'sea',\n",
       " 'sun',\n",
       " 'cloud',\n",
       " 'sea',\n",
       " 'surf',\n",
       " 'beach',\n",
       " 'ocean',\n",
       " 'sea',\n",
       " 'paradise',\n",
       " 'sunset',\n",
       " 'goodtime',\n",
       " 'sea',\n",
       " 'sea',\n",
       " 'sunset',\n",
       " 'sunday',\n",
       " 'nature',\n",
       " 'sea',\n",
       " 'norway',\n",
       " 'sea',\n",
       " 'hiking',\n",
       " 'nature',\n",
       " 'ocean',\n",
       " 'sea',\n",
       " 'nature',\n",
       " 'life',\n",
       " 'girl',\n",
       " 'polishgirl',\n",
       " 'fly',\n",
       " 'red',\n",
       " 'sea',\n",
       " 'beach',\n",
       " 'home',\n",
       " 'sunset',\n",
       " 'sky',\n",
       " 'cloud',\n",
       " 'evening',\n",
       " 'sea',\n",
       " 'freedom',\n",
       " 'sea',\n",
       " 'brazil',\n",
       " 'sunset',\n",
       " 'beach',\n",
       " 'sea',\n",
       " 'sun',\n",
       " 'nature',\n",
       " 'view',\n",
       " 'shadow',\n",
       " 'summer',\n",
       " 'friend',\n",
       " 'fun',\n",
       " 'happy',\n",
       " 'smile',\n",
       " 'sea',\n",
       " 'sun',\n",
       " 'france',\n",
       " 'sea',\n",
       " 'water',\n",
       " 'island',\n",
       " 'rainbow',\n",
       " 'rock',\n",
       " 'bluesky',\n",
       " 'sunset',\n",
       " 'travel',\n",
       " 'vacation',\n",
       " ...]"
      ]
     },
     "execution_count": 6,
     "metadata": {},
     "output_type": "execute_result"
    }
   ],
   "source": [
    "words"
   ]
  },
  {
   "cell_type": "code",
   "execution_count": 7,
   "metadata": {
    "execution": {
     "iopub.execute_input": "2021-01-10T08:37:15.306610Z",
     "iopub.status.busy": "2021-01-10T08:37:15.305942Z",
     "iopub.status.idle": "2021-01-10T08:37:15.353300Z",
     "shell.execute_reply": "2021-01-10T08:37:15.354023Z"
    },
    "papermill": {
     "duration": 0.080765,
     "end_time": "2021-01-10T08:37:15.354225",
     "exception": false,
     "start_time": "2021-01-10T08:37:15.273460",
     "status": "completed"
    },
    "tags": []
   },
   "outputs": [
    {
     "name": "stdout",
     "output_type": "stream",
     "text": [
      "[['UNK', -1], ('love', 5892), ('friend', 3646), ('beach', 3025), ('family', 2966), ('yellow', 2667), ('girl', 2614), ('fashion', 2371), ('nike', 2253), ('snow', 2212)]\n"
     ]
    }
   ],
   "source": [
    "word_count = [['UNK', -1]] \n",
    "word_count.extend(collections.Counter(words)\n",
    "             .most_common(vocabulary_size - 1)) # -1 is for UNK \n",
    "print (\"%s\" % (word_count[0:10]))"
   ]
  },
  {
   "cell_type": "code",
   "execution_count": 8,
   "metadata": {
    "execution": {
     "iopub.execute_input": "2021-01-10T08:37:15.420739Z",
     "iopub.status.busy": "2021-01-10T08:37:15.419902Z",
     "iopub.status.idle": "2021-01-10T08:37:15.422840Z",
     "shell.execute_reply": "2021-01-10T08:37:15.422322Z"
    },
    "papermill": {
     "duration": 0.038718,
     "end_time": "2021-01-10T08:37:15.422954",
     "exception": false,
     "start_time": "2021-01-10T08:37:15.384236",
     "status": "completed"
    },
    "tags": []
   },
   "outputs": [],
   "source": [
    "# Create word -> wordID dictionary\n",
    "dictionary = dict() \n",
    "for word, _ in word_count:\n",
    "    dictionary[word] = len(dictionary)\n",
    "\n",
    "# Create reverse dictionary (wordID -> word)\n",
    "reverse_dictionary = dict(zip(dictionary.values(), dictionary.keys()))"
   ]
  },
  {
   "cell_type": "code",
   "execution_count": 9,
   "metadata": {
    "execution": {
     "iopub.execute_input": "2021-01-10T08:37:15.527246Z",
     "iopub.status.busy": "2021-01-10T08:37:15.522159Z",
     "iopub.status.idle": "2021-01-10T08:37:15.592620Z",
     "shell.execute_reply": "2021-01-10T08:37:15.591894Z"
    },
    "papermill": {
     "duration": 0.139104,
     "end_time": "2021-01-10T08:37:15.592746",
     "exception": false,
     "start_time": "2021-01-10T08:37:15.453642",
     "status": "completed"
    },
    "tags": []
   },
   "outputs": [],
   "source": [
    "# Convert word into wordID, and count unused words (UNK)\n",
    "data = list()\n",
    "unk_count = 0\n",
    "for word in words:\n",
    "    if word in dictionary:\n",
    "        index = dictionary[word]\n",
    "    else:\n",
    "        index = 0  # dictionary['UNK']\n",
    "        unk_count += 1\n",
    "    data.append(index)\n",
    "word_count[0][1] = unk_count\n",
    "# del words  # Hint to reduce memory."
   ]
  },
  {
   "cell_type": "code",
   "execution_count": 10,
   "metadata": {
    "execution": {
     "iopub.execute_input": "2021-01-10T08:37:15.658184Z",
     "iopub.status.busy": "2021-01-10T08:37:15.657365Z",
     "iopub.status.idle": "2021-01-10T08:37:15.660620Z",
     "shell.execute_reply": "2021-01-10T08:37:15.661235Z"
    },
    "papermill": {
     "duration": 0.039106,
     "end_time": "2021-01-10T08:37:15.661375",
     "exception": false,
     "start_time": "2021-01-10T08:37:15.622269",
     "status": "completed"
    },
    "tags": []
   },
   "outputs": [
    {
     "name": "stdout",
     "output_type": "stream",
     "text": [
      "Most common words (+UNK) are: [['UNK', 37], ('love', 5892), ('friend', 3646), ('beach', 3025), ('family', 2966), ('yellow', 2667), ('girl', 2614), ('fashion', 2371), ('nike', 2253), ('snow', 2212)]\n"
     ]
    }
   ],
   "source": [
    "print (\"Most common words (+UNK) are: %s\" % (word_count[:10]))"
   ]
  },
  {
   "cell_type": "code",
   "execution_count": 11,
   "metadata": {
    "execution": {
     "iopub.execute_input": "2021-01-10T08:37:15.744706Z",
     "iopub.status.busy": "2021-01-10T08:37:15.743911Z",
     "iopub.status.idle": "2021-01-10T08:37:15.751299Z",
     "shell.execute_reply": "2021-01-10T08:37:15.750529Z"
    },
    "papermill": {
     "duration": 0.059836,
     "end_time": "2021-01-10T08:37:15.751460",
     "exception": false,
     "start_time": "2021-01-10T08:37:15.691624",
     "status": "completed"
    },
    "tags": []
   },
   "outputs": [
    {
     "name": "stdout",
     "output_type": "stream",
     "text": [
      "Sample data corresponds to\n",
      "__________________\n",
      "33->sea\n",
      "90->instapic\n",
      "60->instagram\n",
      "144->trip\n",
      "64->travel\n",
      "33->sea\n",
      "33->sea\n",
      "1->love\n",
      "3->beach\n",
      "33->sea\n"
     ]
    }
   ],
   "source": [
    "print (\"Sample data corresponds to\\n__________________\")\n",
    "for i in range(10):\n",
    "    print (\"%d->%s\" % (data[i], reverse_dictionary[data[i]]))"
   ]
  },
  {
   "cell_type": "code",
   "execution_count": 12,
   "metadata": {
    "execution": {
     "iopub.execute_input": "2021-01-10T08:37:15.829089Z",
     "iopub.status.busy": "2021-01-10T08:37:15.827979Z",
     "iopub.status.idle": "2021-01-10T08:37:15.831218Z",
     "shell.execute_reply": "2021-01-10T08:37:15.830660Z"
    },
    "papermill": {
     "duration": 0.049016,
     "end_time": "2021-01-10T08:37:15.831331",
     "exception": false,
     "start_time": "2021-01-10T08:37:15.782315",
     "status": "completed"
    },
    "tags": []
   },
   "outputs": [],
   "source": [
    "# Data batch generator\n",
    "data_index = 0\n",
    "def generate_batch(batch_size, num_skips, skip_window):\n",
    "    global data_index\n",
    "    assert batch_size % num_skips == 0\n",
    "    assert num_skips <= 2 * skip_window\n",
    "    batch  = np.ndarray(shape=(batch_size),    dtype=np.int32)\n",
    "    labels = np.ndarray(shape=(batch_size, 1), dtype=np.int32)\n",
    "    span = 2 * skip_window + 1 # [ skip_window target skip_window ]\n",
    "    buffer = collections.deque(maxlen=span)\n",
    "    for _ in range(span):\n",
    "        buffer.append(data[data_index])\n",
    "        data_index = (data_index + 1) % len(data)\n",
    "    for i in range(batch_size // num_skips): # '//' makes the result an integer, e.g., 7//3 = 2\n",
    "        target = skip_window\n",
    "        targets_to_avoid = [ skip_window ]\n",
    "        for j in range(num_skips):\n",
    "            while target in targets_to_avoid:\n",
    "                target = random.randint(0, span - 1)\n",
    "            targets_to_avoid.append(target)\n",
    "            batch[i * num_skips + j] = buffer[skip_window]\n",
    "            labels[i * num_skips + j, 0] = buffer[target]\n",
    "        buffer.append(data[data_index])\n",
    "        data_index = (data_index + 1) % len(data)\n",
    "    return batch, labels"
   ]
  },
  {
   "cell_type": "code",
   "execution_count": 13,
   "metadata": {
    "execution": {
     "iopub.execute_input": "2021-01-10T08:37:15.904501Z",
     "iopub.status.busy": "2021-01-10T08:37:15.903732Z",
     "iopub.status.idle": "2021-01-10T08:37:15.946238Z",
     "shell.execute_reply": "2021-01-10T08:37:15.945647Z"
    },
    "papermill": {
     "duration": 0.083818,
     "end_time": "2021-01-10T08:37:15.946355",
     "exception": false,
     "start_time": "2021-01-10T08:37:15.862537",
     "status": "completed"
    },
    "tags": []
   },
   "outputs": [],
   "source": [
    "# Construct the word2vec model \n",
    "train_inputs   = tf.placeholder(tf.int32, shape=[batch_size])   \n",
    "train_labels   = tf.placeholder(tf.int32, shape=[batch_size, 1])\n",
    "valid_dataset  = tf.constant(valid_examples, dtype=tf.int32)\n",
    "\n",
    "# Look up embeddings for inputs. (vocabulary_size = 50,000)\n",
    "with tf.variable_scope(\"EMBEDDING\"):\n",
    "    with tf.device('/cpu:0'):\n",
    "        embeddings = tf.Variable(\n",
    "            tf.random_uniform([vocabulary_size, embedding_size], -1.0, 1.0))\n",
    "        embed = tf.nn.embedding_lookup(embeddings, train_inputs)\n",
    "    \n",
    "# Construct the variables for the NCE loss\n",
    "with tf.variable_scope(\"NCE_WEIGHT\"):\n",
    "    nce_weights = tf.Variable(\n",
    "                        tf.truncated_normal([vocabulary_size, embedding_size],\n",
    "                        stddev=1.0 / math.sqrt(embedding_size)))\n",
    "    nce_biases = tf.Variable(tf.zeros([vocabulary_size]))"
   ]
  },
  {
   "cell_type": "code",
   "execution_count": 14,
   "metadata": {
    "execution": {
     "iopub.execute_input": "2021-01-10T08:37:16.011802Z",
     "iopub.status.busy": "2021-01-10T08:37:16.010780Z",
     "iopub.status.idle": "2021-01-10T08:37:16.278794Z",
     "shell.execute_reply": "2021-01-10T08:37:16.278083Z"
    },
    "papermill": {
     "duration": 0.301991,
     "end_time": "2021-01-10T08:37:16.278986",
     "exception": false,
     "start_time": "2021-01-10T08:37:15.976995",
     "status": "completed"
    },
    "tags": []
   },
   "outputs": [],
   "source": [
    "with tf.device('/cpu:0'):\n",
    "    # Loss function \n",
    "    num_sampled = 64        # Number of negative examples to sample. \n",
    "    \n",
    "    loss = tf.reduce_mean(\n",
    "                 tf.nn.nce_loss(weights=nce_weights,\n",
    "                 biases=nce_biases,\n",
    "                 labels=train_labels,\n",
    "                 inputs=embed,\n",
    "                 num_sampled=num_sampled,\n",
    "                 num_classes=vocabulary_size))\n",
    "\n",
    "    # Optimizer\n",
    "    optm = tf.train.GradientDescentOptimizer(1.0).minimize(loss)\n",
    "    \n",
    "    # Similarity measure (important)\n",
    "    norm = tf.sqrt(tf.reduce_sum(tf.square(embeddings), 1, keep_dims=True))\n",
    "    normalized_embeddings = embeddings / norm\n",
    "    valid_embeddings = tf.nn.embedding_lookup(normalized_embeddings, valid_dataset)\n",
    "    siml = tf.matmul(valid_embeddings, normalized_embeddings, transpose_b=True)\n"
   ]
  },
  {
   "cell_type": "code",
   "execution_count": 15,
   "metadata": {
    "execution": {
     "iopub.execute_input": "2021-01-10T08:37:16.344623Z",
     "iopub.status.busy": "2021-01-10T08:37:16.343588Z",
     "iopub.status.idle": "2021-01-10T08:37:16.349676Z",
     "shell.execute_reply": "2021-01-10T08:37:16.350182Z"
    },
    "papermill": {
     "duration": 0.040397,
     "end_time": "2021-01-10T08:37:16.350320",
     "exception": false,
     "start_time": "2021-01-10T08:37:16.309923",
     "status": "completed"
    },
    "tags": []
   },
   "outputs": [
    {
     "name": "stdout",
     "output_type": "stream",
     "text": [
      "(990, 64)\n"
     ]
    }
   ],
   "source": [
    "print(normalized_embeddings.shape)"
   ]
  },
  {
   "cell_type": "code",
   "execution_count": 16,
   "metadata": {
    "execution": {
     "iopub.execute_input": "2021-01-10T08:37:16.417147Z",
     "iopub.status.busy": "2021-01-10T08:37:16.416115Z",
     "iopub.status.idle": "2021-01-10T08:37:37.182006Z",
     "shell.execute_reply": "2021-01-10T08:37:37.182911Z"
    },
    "papermill": {
     "duration": 20.801435,
     "end_time": "2021-01-10T08:37:37.183102",
     "exception": false,
     "start_time": "2021-01-10T08:37:16.381667",
     "status": "completed"
    },
    "tags": []
   },
   "outputs": [
    {
     "name": "stdout",
     "output_type": "stream",
     "text": [
      "Average loss at step 0 is 0.070\n",
      "Nearest to 'tbt': 'jacket', 'body', 'awesome', 'lovely', 'tattoo', 'together',\n",
      "Nearest to 'photographer': 'bikini', 'cleaneating', 'magazine', 'artistic', 'wild', 'gift',\n",
      "Nearest to 'bestfriend': 'strong', 'poland', 'gold', 'accessory', 'foodphotography', 'awake',\n",
      "Nearest to 'relax': 'bed', 'curl', 'polishboy', 'artistic', 'creative', 'gold',\n",
      "Nearest to 'wedding': 'ootd', 'air', 'hashtag', 'guitar', 'nail', 'sfs',\n",
      "Nearest to 'instagood': 'wine', 'fresh', 'tgif', 'cupcake', 'weird', 'scene',\n",
      "Nearest to 'tired': 'twilight', 'kik', 'ink', 'food', 'chef', 'nyc',\n",
      "Nearest to 'foodie': 'explore', 'random', 'fly', 'couple', 'instafit', 'green',\n",
      "Nearest to 'lunch': 'outfit', 'season', 'amor', 'cloudporn', 'sorry', 'star',\n",
      "Nearest to 'girl': 'scenery', 'braid', 'red', 'tourist', 'creative', 'cloud',\n",
      "Nearest to 'party': 'child', 'catsofinstagram', 'puppylove', 'autumn', 'night', 'selfienation',\n",
      "Nearest to 'animal': 'sweet', 'justinbieber', 'ready', 'trip', 'blonde', 'great',\n",
      "Nearest to 'flower': 'smoke', 'the', 'paint', 'nyc', 'fish', 'redlips',\n",
      "Nearest to 'sunny': 'menstyle', 'moda', 'sunlight', 'summer', 'scene', 'modern',\n",
      "Nearest to 'peace': 'uae', 'istanbul', 'show', 'foodblogger', 'vsco', 'funtimes',\n",
      "Nearest to 'quote': 'chef', 'instasize', 'ootd', 'nofilter', 'simple', 'team',\n",
      "Nearest to 'holiday': 'lovely', 'new', 'snow', 'snowboarding', 'cardio', 'hkig',\n",
      "Nearest to 'sea': 'work', 'clothes', 'lover', 'football', 'landscape', 'shopping',\n",
      "Nearest to 'tattoo': 'chocolate', 'tbt', 'bizzle', 'sunnyday', 'park', 'music',\n",
      "Nearest to 'snow': 'holiday', 'naturelovers', 'leg', 'fit', 'tshirt', 'homesweethome',\n",
      "Nearest to 'dog': 'handmade', 'ocean', 'job', 'doglover', 'university', 'lady',\n",
      "Nearest to 'lovely': 'holiday', 'foodporn', 'tbt', 'tshirt', 'painting', 'child',\n",
      "Nearest to 'selenagomez': 'sunglass', 'instafood', 'pink', 'love', 'istanbul', 'retro',\n",
      "Nearest to 'weekend': 'happybirthday', 'bikini', 'vscogram', 'amor', 'island', 'sunshine',\n",
      "Nearest to 'igers': 'leg', 'passion', 'boanoite', 'positive', 'gymlife', 'luxury',\n",
      "Nearest to 'instacool': 'plant', 'airmax', 'vibe', 'bright', 'chic', 'leather',\n",
      "Nearest to 'april': 'lifeisgood', 'loveyourself', 'creative', 'goodvibes', 'goodfriends', 'guitar',\n",
      "Nearest to 'ocean': 'brow', 'dog', 'instaart', 'loveyourself', 'traveling', 'metal',\n",
      "Nearest to 'cute': 'goingout', 'bae', 'girl', 'arianagrande', 'team', 'mambaday',\n",
      "Nearest to 'artist': 'weightloss', 'sand', 'asia', 'moon', 'detail', 'japanese',\n",
      "Nearest to 'bored': 'brand', 'eye', 'puppylove', 'followforfollow', 'workout', 'purposetour',\n",
      "Nearest to 'mua': 'night', 'berlin', 'comedy', 'autumn', 'kik', 'miss',\n",
      "Average loss at step 2000 is 6.864\n",
      "Average loss at step 4000 is 4.325\n",
      "Average loss at step 6000 is 4.235\n",
      "Average loss at step 8000 is 4.182\n",
      "Average loss at step 10000 is 4.147\n",
      "Nearest to 'tbt': 'awesome', 'jelena', 'jacket', 'tattoo', 'actor', 'bluesky',\n",
      "Nearest to 'photographer': 'landscape', 'photograph', 'photography', 'wild', 'bikini', 'vegan',\n",
      "Nearest to 'bestfriend': 'strong', 'accessory', 'school', 'england', 'poland', 'gold',\n",
      "Nearest to 'relax': 'bed', 'instacake', 'walk', 'sport', 'hug', 'curl',\n",
      "Nearest to 'wedding': 'nail', 'makeup', 'hashtag', 'air', 'ootd', 'class',\n",
      "Nearest to 'instagood': 'instaphoto', 'instacool', 'weird', 'instagram', 'instamood', 'fresh',\n",
      "Nearest to 'tired': 'bored', 'nike', 'chef', 'dog', 'twilight', 'kik',\n",
      "Nearest to 'foodie': 'cooking', 'foodphotography', 'yum', 'explore', 'random', 'dessertporn',\n",
      "Nearest to 'lunch': 'yum', 'season', 'outfit', 'amor', 'football', 'sweet',\n",
      "Nearest to 'girl': 'cute', 'brother', 'braid', 'europe', 'scenery', 'van',\n",
      "Nearest to 'party': 'catsofinstagram', 'autumn', 'child', 'boyfriend', 'puppylove', 'night',\n",
      "Nearest to 'animal': 'sweet', 'ready', 'cat', 'landscape', 'trip', 'exercise',\n",
      "Nearest to 'flower': 'happy', 'the', 'wild', 'green', 'fish', 'paint',\n",
      "Nearest to 'sunny': 'summer', 'sunlight', 'menstyle', 'chef', 'moda', 'winter',\n",
      "Nearest to 'peace': 'istanbul', 'uae', 'friendship', 'sale', 'zara', 'show',\n",
      "Nearest to 'quote': 'ootd', 'leaf', 'comedy', 'chef', 'team', 'class',\n",
      "Nearest to 'holiday': 'snowboarding', 'lovely', 'snow', 'new', 'hkig', 'vacation',\n",
      "Nearest to 'sea': 'wave', 'beach', 'snow', 'church', 'skiing', 'home',\n",
      "Nearest to 'tattoo': 'bizzle', 'tbt', 'mine', 'tired', 'texas', 'foodstagram',\n",
      "Nearest to 'snow': 'sea', 'beach', 'throwback', 'goodtimes', 'dog', 'holiday',\n",
      "Nearest to 'dog': 'home', 'tired', 'snow', 'power', 'dogoftheday', 'doglover',\n",
      "Nearest to 'lovely': 'holiday', 'adorable', 'loveher', 'home', 'instagramers', 'child',\n",
      "Nearest to 'selenagomez': 'sunglass', 'retro', 'pink', 'istanbul', 'edit', 'instafood',\n",
      "Nearest to 'weekend': 'sunshine', 'happybirthday', 'vscogram', 'amor', 'sun', 'bikini',\n",
      "Nearest to 'igers': 'instago', 'leg', 'instagood', 'fresh', 'instalike', 'instamood',\n",
      "Nearest to 'instacool': 'insta', 'instagood', 'plant', 'instamakeup', 'instagram', 'chic',\n",
      "Nearest to 'april': 'lifeisgood', 'goodfriends', 'hungry', 'loveyourself', 'guitar', 'lazy',\n",
      "Nearest to 'ocean': 'brow', 'romance', 'traveling', 'snow', 'indie', 'metal',\n",
      "Nearest to 'cute': 'girl', 'bae', 'xoxo', 'mambaday', 'goingout', 'loveyou',\n",
      "Nearest to 'artist': 'sketch', 'weightloss', 'nike', 'moon', 'potd', 'truth',\n",
      "Nearest to 'bored': 'tired', 'eye', 'funny', 'truth', 'high', 'followforfollow',\n",
      "Nearest to 'mua': 'basketball', 'bride', 'motd', 'makeup', 'miss', 'mirror',\n"
     ]
    }
   ],
   "source": [
    "# Train! \n",
    "sess = tf.Session()\n",
    "sess.run(tf.initialize_all_variables())\n",
    "#summary_writer = tf.summary.FileWriter('./w2v_train', graph=sess.graph)\n",
    "average_loss = 0\n",
    "\n",
    "num_steps = 10001\n",
    "for iter in xrange(num_steps):\n",
    "    batch_inputs, batch_labels = generate_batch(batch_size, num_skips, skip_window)\n",
    "    feed_dict = {train_inputs : batch_inputs, train_labels : batch_labels}\n",
    "    _, loss_val = sess.run([optm, loss], feed_dict=feed_dict)\n",
    "    average_loss += loss_val\n",
    "    \n",
    "    if iter % 2000 == 0:\n",
    "        average_loss /= 2000\n",
    "        print (\"Average loss at step %d is %.3f\" % (iter, average_loss)) \n",
    "    \n",
    "    if iter % 10000 == 0:\n",
    "        siml_val = sess.run(siml)\n",
    "        for i in xrange(valid_size): # Among valid set \n",
    "            valid_word = reverse_dictionary[valid_examples[i]]\n",
    "            top_k = 6 # number of nearest neighbors\n",
    "            nearest = (-siml_val[i, :]).argsort()[1:top_k+1]\n",
    "            log_str = \"Nearest to '%s':\" % valid_word\n",
    "            for k in xrange(top_k):\n",
    "                close_word = reverse_dictionary[nearest[k]] \n",
    "                log_str = \"%s '%s',\" % (log_str, close_word)\n",
    "            print(log_str) \n",
    "            \n",
    "# Final embeding \n",
    "final_embeddings = sess.run(normalized_embeddings)"
   ]
  },
  {
   "cell_type": "code",
   "execution_count": 17,
   "metadata": {
    "execution": {
     "iopub.execute_input": "2021-01-10T08:37:37.255226Z",
     "iopub.status.busy": "2021-01-10T08:37:37.254474Z",
     "iopub.status.idle": "2021-01-10T08:37:39.851843Z",
     "shell.execute_reply": "2021-01-10T08:37:39.852377Z"
    },
    "papermill": {
     "duration": 2.634464,
     "end_time": "2021-01-10T08:37:39.852564",
     "exception": false,
     "start_time": "2021-01-10T08:37:37.218100",
     "status": "completed"
    },
    "tags": []
   },
   "outputs": [
    {
     "data": {
      "image/png": "[encoded data removed]",
      "text/plain": [
       "<Figure size 1080x1080 with 1 Axes>"
      ]
     },
     "metadata": {
      "needs_background": "light"
     },
     "output_type": "display_data"
    }
   ],
   "source": [
    "num_points = 100\n",
    "tsne = TSNE(perplexity=10, n_components=2, init='pca', n_iter=5000)\n",
    "two_d_embeddings = tsne.fit_transform(final_embeddings[1:num_points+1, :])\n",
    "\n",
    "def plot(embeddings, labels):\n",
    "    assert embeddings.shape[0] >= len(labels), 'More labels than embeddings'\n",
    "    plt.figure(figsize=(15,15))  # in inches\n",
    "    for i, label in enumerate(labels):\n",
    "        x, y = embeddings[i,:]\n",
    "        plt.scatter(x, y, color=['blue'])\n",
    "        plt.annotate(label, xy=(x, y), xytext=(5, 2), textcoords='offset points',\n",
    "                       ha='right', va='bottom')\n",
    "    plt.show()\n",
    "\n",
    "words = [reverse_dictionary[i] for i in range(1, num_points+1)]\n",
    "plot(two_d_embeddings, words)"
   ]
  },
  {
   "cell_type": "code",
   "execution_count": 18,
   "metadata": {
    "execution": {
     "iopub.execute_input": "2021-01-10T08:37:39.935019Z",
     "iopub.status.busy": "2021-01-10T08:37:39.932613Z",
     "iopub.status.idle": "2021-01-10T08:37:39.942386Z",
     "shell.execute_reply": "2021-01-10T08:37:39.941682Z"
    },
    "papermill": {
     "duration": 0.053292,
     "end_time": "2021-01-10T08:37:39.942544",
     "exception": false,
     "start_time": "2021-01-10T08:37:39.889252",
     "status": "completed"
    },
    "tags": []
   },
   "outputs": [],
   "source": [
    "# Save only Numpy matrices to 'word2vec.npz'\n",
    "np.savez(filename[0:-4] +'_word2vec_' + str(embedding_size), word_count=word_count, dictionary=dictionary, reverse_dictionary=reverse_dictionary, word_embeddings=final_embeddings)"
   ]
  },
  {
   "cell_type": "code",
   "execution_count": 19,
   "metadata": {
    "execution": {
     "iopub.execute_input": "2021-01-10T08:37:40.024243Z",
     "iopub.status.busy": "2021-01-10T08:37:40.023488Z",
     "iopub.status.idle": "2021-01-10T08:37:40.034740Z",
     "shell.execute_reply": "2021-01-10T08:37:40.034139Z"
    },
    "papermill": {
     "duration": 0.054824,
     "end_time": "2021-01-10T08:37:40.034877",
     "exception": false,
     "start_time": "2021-01-10T08:37:39.980053",
     "status": "completed"
    },
    "tags": []
   },
   "outputs": [
    {
     "name": "stdout",
     "output_type": "stream",
     "text": [
      "The nearest neighbors of drunk are:\n",
      "drunk   1.0\n",
      "boyfriend   0.59676415\n",
      "loveyou   0.582648\n",
      "god   0.5575862\n",
      "truth   0.4991513\n",
      "throwback   0.49766782\n",
      "sister   0.49743262\n",
      "skylovers   0.49612212\n",
      "goodtimes   0.47913384\n",
      "friend   0.47507575\n",
      "happy   0.47504866\n"
     ]
    }
   ],
   "source": [
    "# Test numpy word2vectors\n",
    "K = 10\n",
    "target = 'drunk'\n",
    "scores = final_embeddings[dictionary[target]].dot(final_embeddings.transpose())\n",
    "scores = scores / np.linalg.norm(final_embeddings, axis=1)\n",
    "k_neighbors = (-scores).argsort()[0:K+1]  \n",
    "\n",
    "print('The nearest neighbors of', target, 'are:')\n",
    "for k in k_neighbors:\n",
    "    print(reverse_dictionary[k], ' ', scores[k])"
   ]
  },
  {
   "cell_type": "code",
   "execution_count": 20,
   "metadata": {
    "execution": {
     "iopub.execute_input": "2021-01-10T08:37:40.121990Z",
     "iopub.status.busy": "2021-01-10T08:37:40.117792Z",
     "iopub.status.idle": "2021-01-10T08:37:40.191271Z",
     "shell.execute_reply": "2021-01-10T08:37:40.191810Z"
    },
    "papermill": {
     "duration": 0.119966,
     "end_time": "2021-01-10T08:37:40.191955",
     "exception": false,
     "start_time": "2021-01-10T08:37:40.071989",
     "status": "completed"
    },
    "tags": []
   },
   "outputs": [
    {
     "data": {
      "text/html": [
       "<a href='vecs.tsv' target='_blank'>vecs.tsv</a><br>"
      ],
      "text/plain": [
       "/kaggle/working/vecs.tsv"
      ]
     },
     "execution_count": 20,
     "metadata": {},
     "output_type": "execute_result"
    }
   ],
   "source": [
    "# (Optional) You can download the embedding vectors and upload to projector.tensorflow.org\n",
    "out_v = open('vecs.tsv', 'w', encoding='utf-8')\n",
    "out_m = open('meta.tsv', 'w', encoding='utf-8')\n",
    "for num, word in enumerate(dictionary):\n",
    "  vec = final_embeddings[num] # skip 0, it's padding.\n",
    "  out_m.write(word + \"\\n\")\n",
    "  out_v.write('\\t'.join([str(x) for x in vec]) + \"\\n\")\n",
    "out_v.close()\n",
    "out_m.close()\n",
    "\n",
    "from IPython.display import FileLink\n",
    "FileLink('vecs.tsv')"
   ]
  },
  {
   "cell_type": "code",
   "execution_count": 21,
   "metadata": {
    "execution": {
     "iopub.execute_input": "2021-01-10T08:37:40.271095Z",
     "iopub.status.busy": "2021-01-10T08:37:40.270042Z",
     "iopub.status.idle": "2021-01-10T08:37:40.275682Z",
     "shell.execute_reply": "2021-01-10T08:37:40.276124Z"
    },
    "papermill": {
     "duration": 0.046658,
     "end_time": "2021-01-10T08:37:40.276264",
     "exception": false,
     "start_time": "2021-01-10T08:37:40.229606",
     "status": "completed"
    },
    "tags": []
   },
   "outputs": [
    {
     "data": {
      "text/html": [
       "<a href='meta.tsv' target='_blank'>meta.tsv</a><br>"
      ],
      "text/plain": [
       "/kaggle/working/meta.tsv"
      ]
     },
     "execution_count": 21,
     "metadata": {},
     "output_type": "execute_result"
    }
   ],
   "source": [
    "from IPython.display import FileLink\n",
    "FileLink('meta.tsv')"
   ]
  },
  {
   "cell_type": "code",
   "execution_count": 22,
   "metadata": {
    "execution": {
     "iopub.execute_input": "2021-01-10T08:37:40.356130Z",
     "iopub.status.busy": "2021-01-10T08:37:40.355120Z",
     "iopub.status.idle": "2021-01-10T08:37:40.361487Z",
     "shell.execute_reply": "2021-01-10T08:37:40.361984Z"
    },
    "papermill": {
     "duration": 0.048095,
     "end_time": "2021-01-10T08:37:40.362117",
     "exception": false,
     "start_time": "2021-01-10T08:37:40.314022",
     "status": "completed"
    },
    "tags": []
   },
   "outputs": [
    {
     "data": {
      "text/html": [
       "<a href='tag_list_word2vec_64.npz' target='_blank'>tag_list_word2vec_64.npz</a><br>"
      ],
      "text/plain": [
       "/kaggle/working/tag_list_word2vec_64.npz"
      ]
     },
     "execution_count": 22,
     "metadata": {},
     "output_type": "execute_result"
    }
   ],
   "source": [
    "# Download your word embedding vectors\n",
    "from IPython.display import FileLink\n",
    "FileLink(filename[0:-4] +'_word2vec_' + str(embedding_size) + '.npz')"
   ]
  },
  {
   "cell_type": "code",
   "execution_count": null,
   "metadata": {
    "papermill": {
     "duration": 0.039563,
     "end_time": "2021-01-10T08:37:40.440397",
     "exception": false,
     "start_time": "2021-01-10T08:37:40.400834",
     "status": "completed"
    },
    "tags": []
   },
   "outputs": [],
   "source": []
  },
  {
   "cell_type": "code",
   "execution_count": 23,
   "metadata": {
    "execution": {
     "iopub.execute_input": "2021-01-10T08:37:40.523473Z",
     "iopub.status.busy": "2021-01-10T08:37:40.522785Z",
     "iopub.status.idle": "2021-01-10T08:37:40.608205Z",
     "shell.execute_reply": "2021-01-10T08:37:40.607394Z"
    },
    "papermill": {
     "duration": 0.129427,
     "end_time": "2021-01-10T08:37:40.608330",
     "exception": false,
     "start_time": "2021-01-10T08:37:40.478903",
     "status": "completed"
    },
    "tags": []
   },
   "outputs": [],
   "source": [
    "import sys\n",
    "sys.path.append(data_folder) # For importing utiliy.py\n",
    "\n",
    "import keras\n",
    "import numpy as np\n",
    "from utility import *\n",
    "\n",
    "from keras import models, layers, Model"
   ]
  },
  {
   "cell_type": "code",
   "execution_count": 24,
   "metadata": {
    "execution": {
     "iopub.execute_input": "2021-01-10T08:37:40.692704Z",
     "iopub.status.busy": "2021-01-10T08:37:40.691944Z",
     "iopub.status.idle": "2021-01-10T08:37:40.694779Z",
     "shell.execute_reply": "2021-01-10T08:37:40.694160Z"
    },
    "papermill": {
     "duration": 0.04741,
     "end_time": "2021-01-10T08:37:40.694887",
     "exception": false,
     "start_time": "2021-01-10T08:37:40.647477",
     "status": "completed"
    },
    "tags": []
   },
   "outputs": [],
   "source": [
    "IMAGE_FEAT_FILE = data_folder + '/harrison_features.npz'\n",
    "#embedding_size = 64\n",
    "TAG2VEC_FILE = 'tag_list_word2vec_' + str(embedding_size) + '.npz'\n",
    "MODEL_NAME = 'im_hashtag_model.h5'"
   ]
  },
  {
   "cell_type": "code",
   "execution_count": 25,
   "metadata": {
    "execution": {
     "iopub.execute_input": "2021-01-10T08:37:40.779936Z",
     "iopub.status.busy": "2021-01-10T08:37:40.779252Z",
     "iopub.status.idle": "2021-01-10T08:37:40.798116Z",
     "shell.execute_reply": "2021-01-10T08:37:40.797357Z"
    },
    "papermill": {
     "duration": 0.064603,
     "end_time": "2021-01-10T08:37:40.798239",
     "exception": false,
     "start_time": "2021-01-10T08:37:40.733636",
     "status": "completed"
    },
    "tags": []
   },
   "outputs": [],
   "source": [
    "# Load Hashtag-to-Vector file\n",
    "from packaging import version\n",
    "t2v_data = None\n",
    "if version.parse(np.__version__) > version.parse(\"1.16.2\"):\n",
    "    t2v_data = np.load(TAG2VEC_FILE, allow_pickle=True) # word_count, dictionary, reverse_dictionary, word_embeddings\n",
    "else:\n",
    "    t2v_data = np.load(TAG2VEC_FILE) # word_count, dictionary, reverse_dictionary, word_embeddings\n",
    "    \n",
    "tag_dictionary = t2v_data['dictionary'].tolist()\n",
    "tag_reverse_dict = t2v_data['reverse_dictionary'].tolist()\n",
    "tag_embeddings = t2v_data['word_embeddings']"
   ]
  },
  {
   "cell_type": "code",
   "execution_count": 26,
   "metadata": {
    "execution": {
     "iopub.execute_input": "2021-01-10T08:37:40.882454Z",
     "iopub.status.busy": "2021-01-10T08:37:40.881774Z",
     "iopub.status.idle": "2021-01-10T08:37:55.328733Z",
     "shell.execute_reply": "2021-01-10T08:37:55.327877Z"
    },
    "papermill": {
     "duration": 14.491525,
     "end_time": "2021-01-10T08:37:55.328859",
     "exception": false,
     "start_time": "2021-01-10T08:37:40.837334",
     "status": "completed"
    },
    "tags": []
   },
   "outputs": [],
   "source": [
    "# Load ImageNet features\n",
    "feat_data = np.load(IMAGE_FEAT_FILE)\n",
    "imnet_fc_feats = feat_data['imagenet_fc_layers']\n",
    "place_fc_feats = feat_data['places365_fc_layers']\n",
    "image_list = feat_data['image_list']\n",
    "tag_strings = feat_data['hashtag_list']\n",
    "train_indices = feat_data['train_indices']\n",
    "test_indices = feat_data['test_indices']"
   ]
  },
  {
   "cell_type": "code",
   "execution_count": 27,
   "metadata": {
    "execution": {
     "iopub.execute_input": "2021-01-10T08:37:55.436267Z",
     "iopub.status.busy": "2021-01-10T08:37:55.431251Z",
     "iopub.status.idle": "2021-01-10T08:37:55.566487Z",
     "shell.execute_reply": "2021-01-10T08:37:55.565600Z"
    },
    "papermill": {
     "duration": 0.19862,
     "end_time": "2021-01-10T08:37:55.566618",
     "exception": false,
     "start_time": "2021-01-10T08:37:55.367998",
     "status": "completed"
    },
    "tags": []
   },
   "outputs": [],
   "source": [
    "# Get HARRISON labels\n",
    "labels = img_paths_to_labels(image_list)\n",
    "\n",
    "# Get word vector of each image\n",
    "image_t2v = []\n",
    "for label in labels:\n",
    "    if label in tag_dictionary:\n",
    "        tagID = tag_dictionary[label]\n",
    "        image_t2v.append(tag_embeddings[tagID])\n",
    "    else:\n",
    "        print(label, \"doesn't exist!\")\n",
    "\n",
    "image_t2v_mat = np.array(image_t2v)"
   ]
  },
  {
   "cell_type": "code",
   "execution_count": 28,
   "metadata": {
    "_cell_guid": "79c7e3d0-c299-4dcb-8224-4455121ee9b0",
    "_uuid": "d629ff2d2480ee46fbb7e2d37f6b5fab8052498a",
    "execution": {
     "iopub.execute_input": "2021-01-10T08:37:55.651330Z",
     "iopub.status.busy": "2021-01-10T08:37:55.650586Z",
     "iopub.status.idle": "2021-01-10T08:37:55.854856Z",
     "shell.execute_reply": "2021-01-10T08:37:55.854202Z"
    },
    "papermill": {
     "duration": 0.248494,
     "end_time": "2021-01-10T08:37:55.854972",
     "exception": false,
     "start_time": "2021-01-10T08:37:55.606478",
     "status": "completed"
    },
    "tags": []
   },
   "outputs": [],
   "source": [
    "# Split data into train/test set\n",
    "train_x = imnet_fc_feats[train_indices, :]\n",
    "test_x = imnet_fc_feats[test_indices, :]\n",
    "train_y = image_t2v_mat[train_indices, :]\n",
    "test_y = image_t2v_mat[test_indices, :]"
   ]
  },
  {
   "cell_type": "code",
   "execution_count": 29,
   "metadata": {
    "execution": {
     "iopub.execute_input": "2021-01-10T08:37:55.943091Z",
     "iopub.status.busy": "2021-01-10T08:37:55.942280Z",
     "iopub.status.idle": "2021-01-10T08:38:15.003076Z",
     "shell.execute_reply": "2021-01-10T08:38:15.002163Z"
    },
    "papermill": {
     "duration": 19.10757,
     "end_time": "2021-01-10T08:38:15.003208",
     "exception": false,
     "start_time": "2021-01-10T08:37:55.895638",
     "status": "completed"
    },
    "tags": []
   },
   "outputs": [
    {
     "name": "stdout",
     "output_type": "stream",
     "text": [
      "Train on 38255 samples\n",
      "Epoch 1/20\n",
      "38255/38255 [==============================] - 1s 24us/sample - loss: 1.9745 - mean_absolute_error: 1.0395\n",
      "Epoch 2/20\n",
      "38255/38255 [==============================] - 1s 23us/sample - loss: 0.8768 - mean_absolute_error: 0.7245\n",
      "Epoch 3/20\n",
      "38255/38255 [==============================] - 1s 23us/sample - loss: 0.5512 - mean_absolute_error: 0.5760\n",
      "Epoch 4/20\n",
      "38255/38255 [==============================] - 1s 23us/sample - loss: 0.3496 - mean_absolute_error: 0.4575\n",
      "Epoch 5/20\n",
      "38255/38255 [==============================] - 1s 23us/sample - loss: 0.2194 - mean_absolute_error: 0.3589\n",
      "Epoch 6/20\n",
      "38255/38255 [==============================] - 1s 23us/sample - loss: 0.1361 - mean_absolute_error: 0.2852\n",
      "Epoch 7/20\n",
      "38255/38255 [==============================] - 1s 27us/sample - loss: 0.0775 - mean_absolute_error: 0.2154\n",
      "Epoch 8/20\n",
      "38255/38255 [==============================] - 1s 24us/sample - loss: 0.0414 - mean_absolute_error: 0.1585\n",
      "Epoch 9/20\n",
      "38255/38255 [==============================] - 1s 23us/sample - loss: 0.0223 - mean_absolute_error: 0.1177\n",
      "Epoch 10/20\n",
      "38255/38255 [==============================] - 1s 24us/sample - loss: 0.0174 - mean_absolute_error: 0.1018\n",
      "Epoch 11/20\n",
      "38255/38255 [==============================] - 1s 24us/sample - loss: 0.0150 - mean_absolute_error: 0.0919\n",
      "Epoch 12/20\n",
      "38255/38255 [==============================] - 1s 28us/sample - loss: 0.0141 - mean_absolute_error: 0.0923\n",
      "Epoch 13/20\n",
      "38255/38255 [==============================] - 1s 24us/sample - loss: 0.0177 - mean_absolute_error: 0.0951\n",
      "Epoch 14/20\n",
      "38255/38255 [==============================] - 1s 23us/sample - loss: 0.0229 - mean_absolute_error: 0.1036\n",
      "Epoch 15/20\n",
      "38255/38255 [==============================] - 1s 24us/sample - loss: 0.0139 - mean_absolute_error: 0.0894\n",
      "Epoch 16/20\n",
      "38255/38255 [==============================] - 1s 26us/sample - loss: 0.0177 - mean_absolute_error: 0.0944\n",
      "Epoch 17/20\n",
      "38255/38255 [==============================] - 1s 24us/sample - loss: 0.0166 - mean_absolute_error: 0.0936\n",
      "Epoch 18/20\n",
      "38255/38255 [==============================] - 1s 23us/sample - loss: 0.0226 - mean_absolute_error: 0.0973\n",
      "Epoch 19/20\n",
      "38255/38255 [==============================] - 1s 24us/sample - loss: 0.0229 - mean_absolute_error: 0.0988\n",
      "Epoch 20/20\n",
      "38255/38255 [==============================] - 1s 23us/sample - loss: 0.0184 - mean_absolute_error: 0.0941\n"
     ]
    }
   ],
   "source": [
    "# Your Neural Network model\n",
    "#-------------\n",
    "model = models.Sequential()\n",
    "model.add(layers.Dense(128, activation='linear', input_shape=(2048,)))\n",
    "model.add(layers.Dense(embedding_size))\n",
    "#-------------\n",
    "model.compile(optimizer='rmsprop', loss='mse', metrics=['mae'])\n",
    "\n",
    "history = model.fit(train_x, train_y, epochs=20, batch_size=512, verbose=1)"
   ]
  },
  {
   "cell_type": "code",
   "execution_count": 30,
   "metadata": {
    "execution": {
     "iopub.execute_input": "2021-01-10T08:38:15.327632Z",
     "iopub.status.busy": "2021-01-10T08:38:15.326587Z",
     "iopub.status.idle": "2021-01-10T08:38:15.349765Z",
     "shell.execute_reply": "2021-01-10T08:38:15.349001Z"
    },
    "papermill": {
     "duration": 0.189132,
     "end_time": "2021-01-10T08:38:15.349888",
     "exception": false,
     "start_time": "2021-01-10T08:38:15.160756",
     "status": "completed"
    },
    "tags": []
   },
   "outputs": [],
   "source": [
    "model.save_weights(MODEL_NAME)"
   ]
  },
  {
   "cell_type": "code",
   "execution_count": 31,
   "metadata": {
    "execution": {
     "iopub.execute_input": "2021-01-10T08:38:15.667904Z",
     "iopub.status.busy": "2021-01-10T08:38:15.665936Z",
     "iopub.status.idle": "2021-01-10T08:38:16.374461Z",
     "shell.execute_reply": "2021-01-10T08:38:16.373486Z"
    },
    "papermill": {
     "duration": 0.868721,
     "end_time": "2021-01-10T08:38:16.374585",
     "exception": false,
     "start_time": "2021-01-10T08:38:15.505864",
     "status": "completed"
    },
    "tags": []
   },
   "outputs": [
    {
     "data": {
      "text/plain": [
       "[0.010029450727339222, 0.081332035]"
      ]
     },
     "execution_count": 31,
     "metadata": {},
     "output_type": "execute_result"
    }
   ],
   "source": [
    "#### Evaluate DeViSE Model ####\n",
    "model.evaluate(test_x, test_y)"
   ]
  },
  {
   "cell_type": "code",
   "execution_count": 32,
   "metadata": {
    "execution": {
     "iopub.execute_input": "2021-01-10T08:38:16.698088Z",
     "iopub.status.busy": "2021-01-10T08:38:16.697035Z",
     "iopub.status.idle": "2021-01-10T08:38:17.391324Z",
     "shell.execute_reply": "2021-01-10T08:38:17.390663Z"
    },
    "papermill": {
     "duration": 0.860123,
     "end_time": "2021-01-10T08:38:17.391461",
     "exception": false,
     "start_time": "2021-01-10T08:38:16.531338",
     "status": "completed"
    },
    "tags": []
   },
   "outputs": [],
   "source": [
    "pred_y = model.predict(test_x)"
   ]
  },
  {
   "cell_type": "code",
   "execution_count": 33,
   "metadata": {
    "execution": {
     "iopub.execute_input": "2021-01-10T08:38:17.720948Z",
     "iopub.status.busy": "2021-01-10T08:38:17.715627Z",
     "iopub.status.idle": "2021-01-10T08:38:18.035938Z",
     "shell.execute_reply": "2021-01-10T08:38:18.036512Z"
    },
    "papermill": {
     "duration": 0.486696,
     "end_time": "2021-01-10T08:38:18.036661",
     "exception": false,
     "start_time": "2021-01-10T08:38:17.549965",
     "status": "completed"
    },
    "tags": []
   },
   "outputs": [],
   "source": [
    "# Convert HARRISON tag ground-truth string into wordID\n",
    "tag_list, miss_tags = tag_string_to_w2v_id(tag_strings, tag_dictionary)\n",
    "test_tag_list = []\n",
    "for tid in test_indices:\n",
    "    test_tag_list.append(tag_list[tid])"
   ]
  },
  {
   "cell_type": "code",
   "execution_count": null,
   "metadata": {
    "papermill": {
     "duration": 0.15636,
     "end_time": "2021-01-10T08:38:18.349252",
     "exception": false,
     "start_time": "2021-01-10T08:38:18.192892",
     "status": "completed"
    },
    "tags": []
   },
   "outputs": [],
   "source": []
  },
  {
   "cell_type": "code",
   "execution_count": 34,
   "metadata": {
    "execution": {
     "iopub.execute_input": "2021-01-10T08:38:18.672022Z",
     "iopub.status.busy": "2021-01-10T08:38:18.671269Z",
     "iopub.status.idle": "2021-01-10T08:38:21.873019Z",
     "shell.execute_reply": "2021-01-10T08:38:21.873649Z"
    },
    "papermill": {
     "duration": 3.364866,
     "end_time": "2021-01-10T08:38:21.873849",
     "exception": false,
     "start_time": "2021-01-10T08:38:18.508983",
     "status": "completed"
    },
    "tags": []
   },
   "outputs": [],
   "source": [
    "# Calculate K-Nearest Neighbor of predicted y (tag-vector)\n",
    "KNN = 10\n",
    "knn_list = []\n",
    "for pred in pred_y:\n",
    "    knn_list.append(get_knn(pred, tag_embeddings, KNN))"
   ]
  },
  {
   "cell_type": "code",
   "execution_count": 35,
   "metadata": {
    "execution": {
     "iopub.execute_input": "2021-01-10T08:38:22.202651Z",
     "iopub.status.busy": "2021-01-10T08:38:22.201976Z",
     "iopub.status.idle": "2021-01-10T08:38:22.326654Z",
     "shell.execute_reply": "2021-01-10T08:38:22.326054Z"
    },
    "papermill": {
     "duration": 0.290887,
     "end_time": "2021-01-10T08:38:22.326795",
     "exception": false,
     "start_time": "2021-01-10T08:38:22.035908",
     "status": "completed"
    },
    "tags": []
   },
   "outputs": [
    {
     "name": "stdout",
     "output_type": "stream",
     "text": [
      "The recall rate of our model is 0.1593443906032389\n"
     ]
    }
   ],
   "source": [
    "recall_rate, recall_list = cal_recall_rate(knn_list, test_tag_list)\n",
    "print('The recall rate of our model is', recall_rate)"
   ]
  },
  {
   "cell_type": "code",
   "execution_count": 36,
   "metadata": {
    "execution": {
     "iopub.execute_input": "2021-01-10T08:38:22.669883Z",
     "iopub.status.busy": "2021-01-10T08:38:22.654184Z",
     "iopub.status.idle": "2021-01-10T08:38:22.676174Z",
     "shell.execute_reply": "2021-01-10T08:38:22.675516Z"
    },
    "papermill": {
     "duration": 0.191458,
     "end_time": "2021-01-10T08:38:22.676285",
     "exception": false,
     "start_time": "2021-01-10T08:38:22.484827",
     "status": "completed"
    },
    "tags": []
   },
   "outputs": [],
   "source": [
    "test_labels = []\n",
    "for tid in test_indices:\n",
    "    #test_tag_list.append(tag_list[tid])\n",
    "    test_labels.append(labels[tid])\n",
    "    \n",
    "recall_rates, _ = cal_class_recall(test_labels, recall_list, test_tag_list)"
   ]
  },
  {
   "cell_type": "code",
   "execution_count": 37,
   "metadata": {
    "execution": {
     "iopub.execute_input": "2021-01-10T08:38:23.001002Z",
     "iopub.status.busy": "2021-01-10T08:38:23.000164Z",
     "iopub.status.idle": "2021-01-10T08:38:23.905465Z",
     "shell.execute_reply": "2021-01-10T08:38:23.904795Z"
    },
    "papermill": {
     "duration": 1.072358,
     "end_time": "2021-01-10T08:38:23.905579",
     "exception": false,
     "start_time": "2021-01-10T08:38:22.833221",
     "status": "completed"
    },
    "tags": []
   },
   "outputs": [
    {
     "data": {
      "image/png": "[encoded data removed]",
      "text/plain": [
       "<Figure size 1080x2880 with 1 Axes>"
      ]
     },
     "metadata": {
      "needs_background": "light"
     },
     "output_type": "display_data"
    }
   ],
   "source": [
    "%matplotlib inline\n",
    "from matplotlib import pyplot as plt\n",
    "import seaborn as sns\n",
    "\n",
    "plt.figure(figsize=(15,40))\n",
    "sns.set(style=\"whitegrid\")\n",
    "ax = sns.barplot(x=list(recall_rates.values()), y=list(recall_rates.keys()))"
   ]
  },
  {
   "cell_type": "code",
   "execution_count": 38,
   "metadata": {
    "execution": {
     "iopub.execute_input": "2021-01-10T08:38:24.251306Z",
     "iopub.status.busy": "2021-01-10T08:38:24.235611Z",
     "iopub.status.idle": "2021-01-10T08:38:24.950696Z",
     "shell.execute_reply": "2021-01-10T08:38:24.950145Z"
    },
    "papermill": {
     "duration": 0.886463,
     "end_time": "2021-01-10T08:38:24.950828",
     "exception": false,
     "start_time": "2021-01-10T08:38:24.064365",
     "status": "completed"
    },
    "tags": []
   },
   "outputs": [
    {
     "name": "stdout",
     "output_type": "stream",
     "text": [
      "Hamming loss (lower is better): 0.8406556093967611\n"
     ]
    }
   ],
   "source": [
    "loss, result_list = cal_hamming_loss(knn_list, test_tag_list)\n",
    "print('Hamming loss (lower is better): %s' % loss)"
   ]
  },
  {
   "cell_type": "code",
   "execution_count": 39,
   "metadata": {
    "execution": {
     "iopub.execute_input": "2021-01-10T08:38:25.278683Z",
     "iopub.status.busy": "2021-01-10T08:38:25.277819Z",
     "iopub.status.idle": "2021-01-10T08:38:25.653338Z",
     "shell.execute_reply": "2021-01-10T08:38:25.652605Z"
    },
    "papermill": {
     "duration": 0.541396,
     "end_time": "2021-01-10T08:38:25.653482",
     "exception": false,
     "start_time": "2021-01-10T08:38:25.112086",
     "status": "completed"
    },
    "tags": []
   },
   "outputs": [
    {
     "ename": "FileNotFoundError",
     "evalue": "[Errno 2] No such file or directory: './predict_4.csv'",
     "output_type": "error",
     "traceback": [
      "\u001b[0;31m---------------------------------------------------------------------------\u001b[0m",
      "\u001b[0;31mFileNotFoundError\u001b[0m                         Traceback (most recent call last)",
      "\u001b[0;32m<ipython-input-39-560f7590d55c>\u001b[0m in \u001b[0;36m<module>\u001b[0;34m\u001b[0m\n\u001b[1;32m      3\u001b[0m \u001b[0mloczip\u001b[0m \u001b[0;34m=\u001b[0m \u001b[0;34m\"./predict_4.zip\"\u001b[0m\u001b[0;34m\u001b[0m\u001b[0;34m\u001b[0m\u001b[0m\n\u001b[1;32m      4\u001b[0m \u001b[0mzip\u001b[0m \u001b[0;34m=\u001b[0m \u001b[0mzipfile\u001b[0m\u001b[0;34m.\u001b[0m\u001b[0mZipFile\u001b[0m\u001b[0;34m(\u001b[0m\u001b[0mloczip\u001b[0m\u001b[0;34m,\u001b[0m \u001b[0;34m\"w\"\u001b[0m\u001b[0;34m,\u001b[0m \u001b[0mzipfile\u001b[0m\u001b[0;34m.\u001b[0m\u001b[0mZIP_DEFLATED\u001b[0m\u001b[0;34m)\u001b[0m\u001b[0;34m\u001b[0m\u001b[0;34m\u001b[0m\u001b[0m\n\u001b[0;32m----> 5\u001b[0;31m \u001b[0mzip\u001b[0m\u001b[0;34m.\u001b[0m\u001b[0mwrite\u001b[0m\u001b[0;34m(\u001b[0m\u001b[0mlocfile\u001b[0m\u001b[0;34m)\u001b[0m\u001b[0;34m\u001b[0m\u001b[0;34m\u001b[0m\u001b[0m\n\u001b[0m\u001b[1;32m      6\u001b[0m \u001b[0mzip\u001b[0m\u001b[0;34m.\u001b[0m\u001b[0mclose\u001b[0m\u001b[0;34m(\u001b[0m\u001b[0;34m)\u001b[0m\u001b[0;34m\u001b[0m\u001b[0;34m\u001b[0m\u001b[0m\n",
      "\u001b[0;32m/opt/conda/lib/python3.7/zipfile.py\u001b[0m in \u001b[0;36mwrite\u001b[0;34m(self, filename, arcname, compress_type, compresslevel)\u001b[0m\n\u001b[1;32m   1728\u001b[0m             )\n\u001b[1;32m   1729\u001b[0m \u001b[0;34m\u001b[0m\u001b[0m\n\u001b[0;32m-> 1730\u001b[0;31m         \u001b[0mzinfo\u001b[0m \u001b[0;34m=\u001b[0m \u001b[0mZipInfo\u001b[0m\u001b[0;34m.\u001b[0m\u001b[0mfrom_file\u001b[0m\u001b[0;34m(\u001b[0m\u001b[0mfilename\u001b[0m\u001b[0;34m,\u001b[0m \u001b[0marcname\u001b[0m\u001b[0;34m)\u001b[0m\u001b[0;34m\u001b[0m\u001b[0;34m\u001b[0m\u001b[0m\n\u001b[0m\u001b[1;32m   1731\u001b[0m \u001b[0;34m\u001b[0m\u001b[0m\n\u001b[1;32m   1732\u001b[0m         \u001b[0;32mif\u001b[0m \u001b[0mzinfo\u001b[0m\u001b[0;34m.\u001b[0m\u001b[0mis_dir\u001b[0m\u001b[0;34m(\u001b[0m\u001b[0;34m)\u001b[0m\u001b[0;34m:\u001b[0m\u001b[0;34m\u001b[0m\u001b[0;34m\u001b[0m\u001b[0m\n",
      "\u001b[0;32m/opt/conda/lib/python3.7/zipfile.py\u001b[0m in \u001b[0;36mfrom_file\u001b[0;34m(cls, filename, arcname)\u001b[0m\n\u001b[1;32m    516\u001b[0m         \u001b[0;32mif\u001b[0m \u001b[0misinstance\u001b[0m\u001b[0;34m(\u001b[0m\u001b[0mfilename\u001b[0m\u001b[0;34m,\u001b[0m \u001b[0mos\u001b[0m\u001b[0;34m.\u001b[0m\u001b[0mPathLike\u001b[0m\u001b[0;34m)\u001b[0m\u001b[0;34m:\u001b[0m\u001b[0;34m\u001b[0m\u001b[0;34m\u001b[0m\u001b[0m\n\u001b[1;32m    517\u001b[0m             \u001b[0mfilename\u001b[0m \u001b[0;34m=\u001b[0m \u001b[0mos\u001b[0m\u001b[0;34m.\u001b[0m\u001b[0mfspath\u001b[0m\u001b[0;34m(\u001b[0m\u001b[0mfilename\u001b[0m\u001b[0;34m)\u001b[0m\u001b[0;34m\u001b[0m\u001b[0;34m\u001b[0m\u001b[0m\n\u001b[0;32m--> 518\u001b[0;31m         \u001b[0mst\u001b[0m \u001b[0;34m=\u001b[0m \u001b[0mos\u001b[0m\u001b[0;34m.\u001b[0m\u001b[0mstat\u001b[0m\u001b[0;34m(\u001b[0m\u001b[0mfilename\u001b[0m\u001b[0;34m)\u001b[0m\u001b[0;34m\u001b[0m\u001b[0;34m\u001b[0m\u001b[0m\n\u001b[0m\u001b[1;32m    519\u001b[0m         \u001b[0misdir\u001b[0m \u001b[0;34m=\u001b[0m \u001b[0mstat\u001b[0m\u001b[0;34m.\u001b[0m\u001b[0mS_ISDIR\u001b[0m\u001b[0;34m(\u001b[0m\u001b[0mst\u001b[0m\u001b[0;34m.\u001b[0m\u001b[0mst_mode\u001b[0m\u001b[0;34m)\u001b[0m\u001b[0;34m\u001b[0m\u001b[0;34m\u001b[0m\u001b[0m\n\u001b[1;32m    520\u001b[0m         \u001b[0mmtime\u001b[0m \u001b[0;34m=\u001b[0m \u001b[0mtime\u001b[0m\u001b[0;34m.\u001b[0m\u001b[0mlocaltime\u001b[0m\u001b[0;34m(\u001b[0m\u001b[0mst\u001b[0m\u001b[0;34m.\u001b[0m\u001b[0mst_mtime\u001b[0m\u001b[0;34m)\u001b[0m\u001b[0;34m\u001b[0m\u001b[0;34m\u001b[0m\u001b[0m\n",
      "\u001b[0;31mFileNotFoundError\u001b[0m: [Errno 2] No such file or directory: './predict_4.csv'"
     ]
    }
   ],
   "source": [
    "import zipfile\n",
    "locfile = \"./predict_4.csv\"\n",
    "loczip = \"./predict_4.zip\"\n",
    "zip = zipfile.ZipFile(loczip, \"w\", zipfile.ZIP_DEFLATED)\n",
    "zip.write(locfile)\n",
    "zip.close()"
   ]
  },
  {
   "cell_type": "code",
   "execution_count": 40,
   "metadata": {
    "execution": {
     "iopub.execute_input": "2021-01-10T08:38:25.982413Z",
     "iopub.status.busy": "2021-01-10T08:38:25.981557Z",
     "iopub.status.idle": "2021-01-10T08:38:25.986205Z",
     "shell.execute_reply": "2021-01-10T08:38:25.985629Z"
    },
    "papermill": {
     "duration": 0.171478,
     "end_time": "2021-01-10T08:38:25.986313",
     "exception": false,
     "start_time": "2021-01-10T08:38:25.814835",
     "status": "completed"
    },
    "tags": []
   },
   "outputs": [
    {
     "data": {
      "text/html": [
       "<a href=predict.zip>Ashish zip file</a>"
      ],
      "text/plain": [
       "<IPython.core.display.HTML object>"
      ]
     },
     "execution_count": 40,
     "metadata": {},
     "output_type": "execute_result"
    }
   ],
   "source": [
    "from IPython.display import HTML\n",
    "def create_download_link(title = \"Ashish zip file\", filename = \"predict.zip\"):  \n",
    "    html = '<a href={filename}>{title}</a>'\n",
    "    html = html.format(title=title,filename=filename)\n",
    "    return HTML(html)\n",
    "\n",
    "# create a link to download the dataframe which was saved with .to_csv method\n",
    "create_download_link(filename='predict.zip')"
   ]
  },
  {
   "cell_type": "code",
   "execution_count": null,
   "metadata": {
    "papermill": {
     "duration": 0.159938,
     "end_time": "2021-01-10T08:38:26.309220",
     "exception": false,
     "start_time": "2021-01-10T08:38:26.149282",
     "status": "completed"
    },
    "tags": []
   },
   "outputs": [],
   "source": []
  }
 ],
 "metadata": {
  "kernelspec": {
   "display_name": "Python 3",
   "language": "python",
   "name": "python3"
  },
  "language_info": {
   "codemirror_mode": {
    "name": "ipython",
    "version": 3
   },
   "file_extension": ".py",
   "mimetype": "text/x-python",
   "name": "python",
   "nbconvert_exporter": "python",
   "pygments_lexer": "ipython3",
   "version": "3.7.6"
  },
  "papermill": {
   "duration": 85.035836,
   "end_time": "2021-01-10T08:38:27.480083",
   "environment_variables": {},
   "exception": null,
   "input_path": "__notebook__.ipynb",
   "output_path": "__notebook__.ipynb",
   "parameters": {},
   "start_time": "2021-01-10T08:37:02.444247",
   "version": "2.1.0"
  }
 },
 "nbformat": 4,
 "nbformat_minor": 4
}
